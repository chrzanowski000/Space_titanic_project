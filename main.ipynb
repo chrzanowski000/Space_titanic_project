{
 "cells": [
  {
   "cell_type": "code",
   "execution_count": null,
   "metadata": {},
   "outputs": [],
   "source": [
    "# Imports\n",
    "import time\n",
    "import torch\n",
    "import torch.nn.functional as F  # Parameterless functions, like (some) activation functions\n",
    "import torchvision.transforms as transforms  # Transformations and augmentations\n",
    "from torch import optim  # For optimizers\n",
    "from torch import nn  # All neural network modules\n",
    "from torch.utils.data import DataLoader #Dataloader module\n",
    "from torch.utils.data import Dataset # Dataset module\n",
    "import torchvision.transforms as transforms\n",
    "from tqdm import tqdm #nice progress bar\n",
    "import pandas as pd\n",
    "import numpy as np\n",
    "import matplotlib.pyplot as plt\n",
    "\n",
    "# Libraries for dataloader\n",
    "from os import listdir\n",
    "from os.path import isfile, join\n",
    "#Checking whether GPU RAM is empty\n",
    "print('allocated CUDA memory: ',torch.cuda.memory_allocated())\n",
    "print('cached CUDA memory: ',torch.cuda.memory_cached())\n"
   ]
  },
  {
   "cell_type": "code",
   "execution_count": null,
   "metadata": {},
   "outputs": [],
   "source": [
    "from datetime import datetime\n",
    "now = datetime.now()\n",
    "dt_string = now.strftime(\"%d_%m_%Y\")\n",
    "# path to save pytorch models during training\n",
    "PATH = f'/notebooks/logs/model_{dt_string}.pt'"
   ]
  },
  {
   "cell_type": "code",
   "execution_count": null,
   "metadata": {},
   "outputs": [],
   "source": [
    "# Template of function, modify for proper use\n",
    "# for calcualting mean and std od dataset\n",
    "def get_mean_and_std(dataset):\n",
    "    channels_sum, channels_squared_sum, num_batches = 0, 0, 0\n",
    "    for data, _ in tqdm(dataset):\n",
    "        # Mean over batch, height and width, but not over the channels\n",
    "        channels_sum += torch.mean(data, dim=[1,2])\n",
    "        channels_squared_sum += torch.mean(data**2, dim=[1,2])\n",
    "        num_batches += 1\n",
    "\n",
    "    mean = channels_sum / num_batches\n",
    "\n",
    "    # std = sqrt(E[X^2] - (E[X])^2)\n",
    "    std = (channels_squared_sum / num_batches - mean ** 2) ** 0.5\n",
    "\n",
    "    return mean, std"
   ]
  }
 ],
 "metadata": {
  "kernelspec": {
   "display_name": "ML_M1",
   "language": "python",
   "name": "python3"
  },
  "language_info": {
   "name": "python",
   "version": "3.9.15 (main, Nov  4 2022, 11:12:28) \n[Clang 12.0.0 ]"
  },
  "orig_nbformat": 4,
  "vscode": {
   "interpreter": {
    "hash": "ced241d5e25316607f69b17bccf9c4f21b200991effa1e275b2556613ad6a8df"
   }
  }
 },
 "nbformat": 4,
 "nbformat_minor": 2
}
