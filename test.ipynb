{
 "cells": [
  {
   "cell_type": "code",
   "execution_count": 22,
   "metadata": {},
   "outputs": [],
   "source": [
    "import numpy as np\n",
    "import matplotlib.pyplot as plt\n",
    "import seaborn as sns\n",
    "from scipy.stats import norm\n",
    "import pandas as pd\n",
    "\n",
    "import Analyze as anal"
   ]
  },
  {
   "cell_type": "code",
   "execution_count": 24,
   "metadata": {},
   "outputs": [
    {
     "ename": "NameError",
     "evalue": "name 'plt' is not defined",
     "output_type": "error",
     "traceback": [
      "\u001b[1;31m---------------------------------------------------------------------------\u001b[0m",
      "\u001b[1;31mNameError\u001b[0m                                 Traceback (most recent call last)",
      "Cell \u001b[1;32mIn [24], line 2\u001b[0m\n\u001b[0;32m      1\u001b[0m df_train \u001b[39m=\u001b[39m pd\u001b[39m.\u001b[39mread_csv(\u001b[39m\"\u001b[39m\u001b[39mtrain.csv\u001b[39m\u001b[39m\"\u001b[39m)\n\u001b[1;32m----> 2\u001b[0m anal\u001b[39m.\u001b[39manalyze(df_train)\n",
      "File \u001b[1;32mc:\\Users\\rewas\\Desktop\\Uniwerek\\Programowanie\\Machine Learning\\Projekt\\Space_titanic_project\\Analyze.py:8\u001b[0m, in \u001b[0;36manalyze\u001b[1;34m(df_train)\u001b[0m\n\u001b[0;32m      2\u001b[0m \u001b[39m'''\u001b[39;00m\n\u001b[0;32m      3\u001b[0m \u001b[39mdf_train w formacie pandas.DataFrame\u001b[39;00m\n\u001b[0;32m      4\u001b[0m \u001b[39m'''\u001b[39;00m\n\u001b[0;32m      6\u001b[0m \u001b[39m# pie plots for categorical variables\u001b[39;00m\n\u001b[1;32m----> 8\u001b[0m fig, axis \u001b[39m=\u001b[39m plt\u001b[39m.\u001b[39msubplots(\u001b[39m1\u001b[39m, \u001b[39m2\u001b[39m)\n\u001b[0;32m     10\u001b[0m \u001b[39mfor\u001b[39;00m num, name \u001b[39min\u001b[39;00m \u001b[39menumerate\u001b[39m([\u001b[39m\"\u001b[39m\u001b[39mHomePlanet\u001b[39m\u001b[39m\"\u001b[39m, \u001b[39m\"\u001b[39m\u001b[39mDestination\u001b[39m\u001b[39m\"\u001b[39m]):\n\u001b[0;32m     11\u001b[0m     num_of_occ \u001b[39m=\u001b[39m \u001b[39mlist\u001b[39m(df_train[name]\u001b[39m.\u001b[39mvalue_counts()\u001b[39m.\u001b[39mvalues)\n",
      "\u001b[1;31mNameError\u001b[0m: name 'plt' is not defined"
     ]
    }
   ],
   "source": [
    "df_train = pd.read_csv(\"train.csv\")\n",
    "anal.analyze(df_train)"
   ]
  }
 ],
 "metadata": {
  "kernelspec": {
   "display_name": "Python 3",
   "language": "python",
   "name": "python3"
  },
  "language_info": {
   "codemirror_mode": {
    "name": "ipython",
    "version": 3
   },
   "file_extension": ".py",
   "mimetype": "text/x-python",
   "name": "python",
   "nbconvert_exporter": "python",
   "pygments_lexer": "ipython3",
   "version": "3.10.7 (tags/v3.10.7:6cc6b13, Sep  5 2022, 14:08:36) [MSC v.1933 64 bit (AMD64)]"
  },
  "orig_nbformat": 4,
  "vscode": {
   "interpreter": {
    "hash": "301a17a29b57d3836b7901af1621afd6d2b1f2298b9c7949191147cf2fea93e3"
   }
  }
 },
 "nbformat": 4,
 "nbformat_minor": 2
}
